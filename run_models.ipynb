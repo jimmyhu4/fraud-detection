{
 "cells": [
  {
   "cell_type": "markdown",
   "metadata": {},
   "source": [
    "## Run baseline models"
   ]
  },
  {
   "cell_type": "code",
   "execution_count": 1,
   "metadata": {},
   "outputs": [
    {
     "name": "stdout",
     "output_type": "stream",
     "text": [
      "Using TensorFlow backend.\n",
      "Cox:\n",
      "precision:  [0.13333333 0.61666667 0.53096447 0.51121495 0.50506912]\n",
      "recall:  [0.00359066 0.79712747 0.93895871 0.98204668 0.98384201]\n",
      "F1:  [0.00699301 0.6953798  0.67833982 0.6724032  0.66747868]\n",
      "accuracy:  [0.49012567 0.6508079  0.55475763 0.52154399 0.50987433]\n",
      "\n",
      "\n",
      "\n",
      "SVM:\n",
      "precision:  [0.75       0.7260274  0.74736842 0.64634146 0.81564246]\n",
      "recall:  [0.20503597 0.19064748 0.25539568 0.19064748 0.52517986]\n",
      "F1:  [0.3220339  0.3019943  0.38069705 0.29444444 0.63894967]\n",
      "accuracy:  [0.56834532 0.55935252 0.58453237 0.54316547 0.70323741]\n"
     ]
    }
   ],
   "source": [
    "!python2 framework/safe_baselines.py \"twitter\""
   ]
  },
  {
   "cell_type": "code",
   "execution_count": 2,
   "metadata": {},
   "outputs": [
    {
     "name": "stdout",
     "output_type": "stream",
     "text": [
      "Using TensorFlow backend.\n",
      "Cox:\n",
      "precision:  [0.         0.80740741 0.71584699 0.63519313 0.62040816]\n",
      "recall:  [0.         0.62643678 0.75287356 0.85057471 0.87356322]\n",
      "F1:  [0.         0.70550162 0.73389356 0.72727273 0.72553699]\n",
      "accuracy:  [0.50708215 0.74220963 0.73087819 0.68555241 0.67422096]\n",
      "\n",
      "\n",
      "\n",
      "SVM:\n",
      "precision:  [0.         0.66       0.69       0.71287129 0.67924528]\n",
      "recall:  [0.         0.75862069 0.79310345 0.82758621 0.82758621]\n",
      "F1:  [0.         0.70588235 0.73796791 0.76595745 0.74611399]\n",
      "accuracy:  [0.50285714 0.68571429 0.72       0.74857143 0.72      ]\n"
     ]
    }
   ],
   "source": [
    "!python2 framework/safe_baselines.py \"wiki\""
   ]
  }
 ],
 "metadata": {
  "kernelspec": {
   "display_name": "Python 2",
   "language": "python",
   "name": "python2"
  },
  "language_info": {
   "codemirror_mode": {
    "name": "ipython",
    "version": 2
   },
   "file_extension": ".py",
   "mimetype": "text/x-python",
   "name": "python",
   "nbconvert_exporter": "python",
   "pygments_lexer": "ipython2",
   "version": "2.7.18"
  }
 },
 "nbformat": 4,
 "nbformat_minor": 4
}
